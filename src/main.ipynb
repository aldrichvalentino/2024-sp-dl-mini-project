{
 "cells": [
  {
   "cell_type": "markdown",
   "id": "b67108d4-2a7f-4b41-acd7-8a408dd4deee",
   "metadata": {},
   "source": [
    "# ResNet for CIFAR-10"
   ]
  },
  {
   "cell_type": "code",
   "execution_count": 1,
   "id": "fc88ce83-7805-4074-ab69-2ca7e931ef16",
   "metadata": {},
   "outputs": [
    {
     "name": "stdout",
     "output_type": "stream",
     "text": [
      "Hello, world!\n"
     ]
    }
   ],
   "source": [
    "import resnet_model\n",
    "\n",
    "resnet_model.testing()"
   ]
  },
  {
   "cell_type": "code",
   "execution_count": null,
   "id": "83d26ab3-ee90-49eb-ba8d-7f3a5ce14794",
   "metadata": {},
   "outputs": [],
   "source": []
  }
 ],
 "metadata": {
  "kernelspec": {
   "display_name": "Python 3 (ipykernel)",
   "language": "python",
   "name": "python3"
  },
  "language_info": {
   "codemirror_mode": {
    "name": "ipython",
    "version": 3
   },
   "file_extension": ".py",
   "mimetype": "text/x-python",
   "name": "python",
   "nbconvert_exporter": "python",
   "pygments_lexer": "ipython3",
   "version": "3.11.4"
  }
 },
 "nbformat": 4,
 "nbformat_minor": 5
}
